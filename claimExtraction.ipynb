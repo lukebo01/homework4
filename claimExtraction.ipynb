{
 "cells": [
  {
   "cell_type": "markdown",
   "metadata": {},
   "source": []
  },
  {
   "cell_type": "code",
   "execution_count": 9,
   "metadata": {},
   "outputs": [],
   "source": [
    "import matplotlib\n",
    "import os\n",
    "import json\n",
    "import pandas as pd\n",
    "from bs4 import BeautifulSoup"
   ]
  },
  {
   "cell_type": "markdown",
   "metadata": {},
   "source": [
    "Analiziamo le statistiche dei json di sorgente di 10 papers scelti casualmente, in quanto numero di tabelle, e numero di references e footnotes di ogni tabella, identificandole con nome del paper (filename del json) + id table per avere una panoramica generale iniziale."
   ]
  },
  {
   "cell_type": "code",
   "execution_count": 7,
   "metadata": {},
   "outputs": [
    {
     "name": "stdout",
     "output_type": "stream",
     "text": [
      "\n",
      "Number of tables per file:\n",
      "2403.19709.json: 5\n",
      "2404.16905.json: 3\n",
      "2404.18739.json: 5\n",
      "2405.13001.json: 4\n",
      "2406.07914.json: 3\n",
      "2407.02052.json: 4\n",
      "2408.11849.json: 6\n",
      "2409.02041.json: 3\n",
      "2409.09785.json: 4\n",
      "2409.11252.json: 3\n",
      "\n",
      "Total number of tables: 40\n"
     ]
    }
   ],
   "source": [
    "# Percorso alla cartella contenente i file JSON\n",
    "folder_path = 'raw'\n",
    "\n",
    "# Lista per mantenere i dati estratti\n",
    "data = []\n",
    "\n",
    "# Dizionario per tenere traccia del numero di tabelle per file\n",
    "tables_per_file = {}\n",
    "\n",
    "# Itera attraverso ogni file nella cartella specificata\n",
    "for filename in os.listdir(folder_path):\n",
    "    if filename.endswith('.json'):\n",
    "        file_path = os.path.join(folder_path, filename)\n",
    "        \n",
    "        # Apri e leggi il contenuto del file JSON\n",
    "        with open(file_path, 'r', encoding='utf-8') as file:\n",
    "            content = json.load(file)\n",
    "        \n",
    "        # Conta le tabelle in questo file\n",
    "        num_tables = len(content)\n",
    "        tables_per_file[filename] = num_tables\n",
    "\n",
    "        # Estrai il numero di riferimenti e note per ogni tabella\n",
    "        for table_id, table_content in content.items():\n",
    "            num_references = len(table_content.get('references', []))\n",
    "            num_footnotes = len(table_content.get('footnotes', []))\n",
    "            \n",
    "            # Aggiungi i dati estratti alla lista\n",
    "            data.append({\n",
    "                'File': filename,\n",
    "                'Table ID': table_id,\n",
    "                'Number of References': num_references,\n",
    "                'Number of Footnotes': num_footnotes\n",
    "            })\n",
    "\n",
    "# Converti la lista in un DataFrame per una migliore visualizzazione\n",
    "df = pd.DataFrame(data)\n",
    "\n",
    "# Mostra il conteggio delle tabelle per file\n",
    "print(\"\\nNumber of tables per file:\")\n",
    "total_tables = 0\n",
    "for file, count in tables_per_file.items():\n",
    "    print(f\"{file}: {count}\")\n",
    "    total_tables += count\n",
    "\n",
    "# Stampa il totale delle tabelle\n",
    "print(\"\\nTotal number of tables:\", total_tables)\n",
    "\n",
    "# Opzionale: salvare il DataFrame in un file CSV\n",
    "df.to_csv('summary_of_tables.csv', index=False)"
   ]
  },
  {
   "cell_type": "markdown",
   "metadata": {},
   "source": [
    "Possiamo notare come abbiamo per i 10 papers selezionati, ben 40 tabelle totali.\n"
   ]
  },
  {
   "cell_type": "code",
   "execution_count": null,
   "metadata": {},
   "outputs": [],
   "source": []
  }
 ],
 "metadata": {
  "kernelspec": {
   "display_name": ".venv",
   "language": "python",
   "name": "python3"
  },
  "language_info": {
   "codemirror_mode": {
    "name": "ipython",
    "version": 3
   },
   "file_extension": ".py",
   "mimetype": "text/x-python",
   "name": "python",
   "nbconvert_exporter": "python",
   "pygments_lexer": "ipython3",
   "version": "3.12.4"
  }
 },
 "nbformat": 4,
 "nbformat_minor": 2
}
