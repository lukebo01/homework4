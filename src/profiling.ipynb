{
 "cells": [
  {
   "cell_type": "code",
   "execution_count": 1,
   "metadata": {},
   "outputs": [],
   "source": [
    "import os\n",
    "import json\n",
    "import csv\n",
    "import re\n",
    "from collections import Counter, defaultdict"
   ]
  },
  {
   "cell_type": "code",
   "execution_count": 2,
   "metadata": {},
   "outputs": [],
   "source": [
    "def sanitize_excel_formulas(value):\n",
    "    \"\"\"\n",
    "    Restituisce il valore \"sanitizzato\" se inizia con\n",
    "    +, -, = o @ (quest'ultimo talvolta è considerato formula in Excel).\n",
    "    \"\"\"\n",
    "    if isinstance(value, str) and re.match(r'^[=+\\-@]', value):\n",
    "        return \"'\" + value  # Prepone l'apostrofo\n",
    "    return value\n",
    "\n",
    "def profile_claims(folder_path, output_csv=\"NAME_PROFILING.csv\"):\n",
    "    \"\"\"\n",
    "    Legge tutti i file JSON in 'folder_path', estrae le distribuzioni di:\n",
    "      - name (da specifications)\n",
    "      - value per ciascun name\n",
    "      - Measure\n",
    "    e produce un CSV con 2 colonne (KEY, COUNT).\n",
    "    \"\"\"\n",
    "\n",
    "    # Contatori\n",
    "    name_counts = Counter()\n",
    "    value_counts = defaultdict(Counter)  # \"name\" -> Counter dei \"value\"\n",
    "    measure_counts = Counter()\n",
    "\n",
    "    # Scorri tutti i file .json nella cartella\n",
    "    for filename in os.listdir(folder_path):\n",
    "        if filename.endswith(\".json\"):\n",
    "            file_path = os.path.join(folder_path, filename)\n",
    "            with open(file_path, \"r\", encoding=\"utf-8\") as f:\n",
    "                data = json.load(f)\n",
    "\n",
    "            # Scorri ogni elemento del file JSON\n",
    "            for _obj_key, obj_value in data.items():\n",
    "                specs = obj_value.get(\"specifications\", {})\n",
    "\n",
    "                for _, spec_item in specs.items():\n",
    "                    name = spec_item.get(\"name\")\n",
    "                    val = spec_item.get(\"value\")\n",
    "\n",
    "                    # Aggiorna contatori name/value\n",
    "                    if name:\n",
    "                        name_counts[name] += 1\n",
    "                        if val:\n",
    "                            value_counts[name][val] += 1\n",
    "\n",
    "                # Estraggo la Measure\n",
    "                measure = obj_value.get(\"Measure\")\n",
    "                if measure:\n",
    "                    measure_counts[measure] += 1\n",
    "\n",
    "    # Scrittura del CSV\n",
    "    # Usare delimiter=';' aiuta in locale italiano per avere le colonne separate correttamente in Excel\n",
    "    with open(output_csv, \"w\", newline=\"\", encoding=\"utf-8\") as csvfile:\n",
    "        writer = csv.writer(csvfile, delimiter=';')  \n",
    "        \n",
    "        # Intestazione\n",
    "        writer.writerow([\"KEY\", \"COUNT\"])\n",
    "\n",
    "        # 1) Distribuzione dei \"name\"\n",
    "        writer.writerow([sanitize_excel_formulas(\"-- Distribution of 'name' --\"), \"\"])\n",
    "        for nm, nm_count in name_counts.items():\n",
    "            # Sanitizziamo sia nm che nm_count\n",
    "            writer.writerow([sanitize_excel_formulas(nm), sanitize_excel_formulas(str(nm_count))])\n",
    "        writer.writerow([])  # Riga vuota\n",
    "\n",
    "        # 2) Distribuzione dei \"value\" per ciascun \"name\"\n",
    "        writer.writerow([sanitize_excel_formulas(\"-- Distribution of 'value' for each 'name' --\"), \"\"])\n",
    "        for nm, val_counter in value_counts.items():\n",
    "            # Riga di intestazione per ogni \"name\"\n",
    "            writer.writerow([sanitize_excel_formulas(f\"(name) {nm}\"), \"\"])\n",
    "            for val, val_count in val_counter.items():\n",
    "                writer.writerow([sanitize_excel_formulas(val), sanitize_excel_formulas(str(val_count))])\n",
    "            writer.writerow([])\n",
    "\n",
    "        # 3) Distribuzione delle \"Measure\"\n",
    "        writer.writerow([sanitize_excel_formulas(\"-- Distribution of 'Measure' --\"), \"\"])\n",
    "        for measure_key, measure_count in measure_counts.items():\n",
    "            writer.writerow([sanitize_excel_formulas(measure_key), sanitize_excel_formulas(str(measure_count))])\n",
    "\n",
    "    print(f\"Profiling completato! File salvato come: {output_csv}\")"
   ]
  },
  {
   "cell_type": "code",
   "execution_count": 4,
   "metadata": {},
   "outputs": [
    {
     "name": "stdout",
     "output_type": "stream",
     "text": [
      "Profiling completato! File salvato come: ../data/profiling/DATA_HUNTERS_PROFILING.csv\n"
     ]
    }
   ],
   "source": [
    "# Esempio di utilizzo:\n",
    "cartella_json = \"../data/Gemini_claims/json\"\n",
    "output_file = \"../data/profiling/DATA_HUNTERS_PROFILING.csv\"\n",
    "profile_claims(cartella_json, output_file)"
   ]
  }
 ],
 "metadata": {
  "kernelspec": {
   "display_name": ".venv",
   "language": "python",
   "name": "python3"
  },
  "language_info": {
   "codemirror_mode": {
    "name": "ipython",
    "version": 3
   },
   "file_extension": ".py",
   "mimetype": "text/x-python",
   "name": "python",
   "nbconvert_exporter": "python",
   "pygments_lexer": "ipython3",
   "version": "3.12.4"
  }
 },
 "nbformat": 4,
 "nbformat_minor": 2
}
