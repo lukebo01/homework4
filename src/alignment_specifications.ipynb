{
 "cells": [
  {
   "cell_type": "markdown",
   "metadata": {},
   "source": [
    "GENERO I NUOVI CLAIMS ALIGNMENT"
   ]
  },
  {
   "cell_type": "code",
   "execution_count": 9,
   "metadata": {},
   "outputs": [
    {
     "name": "stdout",
     "output_type": "stream",
     "text": [
      "Elaborazione completata.\n"
     ]
    }
   ],
   "source": [
    "import json\n",
    "import os\n",
    "\n",
    "def load_json(path):\n",
    "    with open(path, 'r') as file:\n",
    "        return json.load(file)\n",
    "\n",
    "def save_json(data, path):\n",
    "    with open(path, 'w') as file:\n",
    "        json.dump(data, file, indent=4)\n",
    "\n",
    "# Carica il dizionario di riferimento\n",
    "dictionary_path = '../data/alignment/dictionary.json'\n",
    "dictionary = load_json(dictionary_path)\n",
    "\n",
    "# Elenco dei file JSON da elaborare\n",
    "source_directory = '../data/Gemini_claims/json'\n",
    "destination_directory = '../data/alignment/claims'\n",
    "json_files = [f for f in os.listdir(source_directory) if f.endswith('.json')]\n",
    "\n",
    "# Assicurati che la cartella di destinazione esista\n",
    "os.makedirs(destination_directory, exist_ok=True)\n",
    "\n",
    "def check_and_replace(current_value, dictionary):\n",
    "    for key, values in dictionary.items():\n",
    "        if current_value in values:\n",
    "            return key\n",
    "    return current_value\n",
    "\n",
    "for json_file in json_files:\n",
    "    source_path = os.path.join(source_directory, json_file)\n",
    "    destination_path = os.path.join(destination_directory, json_file)\n",
    "    \n",
    "    data = load_json(source_path)\n",
    "    \n",
    "    for claim_id, claim_data in data.items():\n",
    "        for spec_id, spec in claim_data['specifications'].items():\n",
    "            # Verifica e sostituzione per \"name\"\n",
    "            spec['name'] = check_and_replace(spec['name'], dictionary['name_specifications'])\n",
    "\n",
    "            # Verifica e sostituzione per \"value\"\n",
    "            spec['value'] = check_and_replace(spec['value'], dictionary['value_specifications'])\n",
    "\n",
    "        # Verifica e sostituzione per \"Measure\"\n",
    "        claim_data['Measure'] = check_and_replace(claim_data['Measure'], dictionary['name_measure'])\n",
    "            \n",
    "    save_json(data, destination_path)\n",
    "\n",
    "print(\"Elaborazione completata.\")\n"
   ]
  },
  {
   "cell_type": "markdown",
   "metadata": {},
   "source": [
    "Codice per generare il file DATA_HUNTERS_ALIGNMENT.JSON"
   ]
  },
  {
   "cell_type": "code",
   "execution_count": 10,
   "metadata": {},
   "outputs": [],
   "source": [
    "import os\n",
    "import json\n",
    "\n",
    "def read_json_files(directory):\n",
    "    data = []\n",
    "    for filename in os.listdir(directory):\n",
    "        if filename.endswith('.json'):\n",
    "            with open(os.path.join(directory, filename), 'r') as file:\n",
    "                data.append((filename, json.load(file)))\n",
    "    return data\n",
    "\n",
    "def extract_data(json_files):\n",
    "    aligned_names = {}\n",
    "    aligned_values = {}\n",
    "    \n",
    "    for filename, content in json_files:\n",
    "        paper_id, table_id, _ = filename.split('_')[:3]\n",
    "        \n",
    "        for claim_id, claim_data in content.items():\n",
    "            specs = claim_data.get('specifications', {})\n",
    "            for spec_id, spec_details in specs.items():\n",
    "                name = spec_details['name']\n",
    "                value = spec_details['value']\n",
    "                key = f\"{paper_id}_{table_id}_{claim_id}_{spec_id}\"\n",
    "                \n",
    "                if name not in aligned_names:\n",
    "                    aligned_names[name] = []\n",
    "                if value not in aligned_values:\n",
    "                    aligned_values[value] = []\n",
    "                \n",
    "                aligned_names[name].append(key)\n",
    "                aligned_values[value].append(key)\n",
    "    \n",
    "    return aligned_names, aligned_values\n",
    "\n",
    "def save_json(data, path):\n",
    "    with open(path, 'w') as file:\n",
    "        json.dump(data, file, indent=4)\n",
    "\n",
    "# Main execution path\n",
    "directory = '../data/alignment/claims'\n",
    "output_path = '../data/alignment/alignment.json'\n",
    "\n",
    "json_files = read_json_files(directory)\n",
    "aligned_names, aligned_values = extract_data(json_files)\n",
    "result_data = {\n",
    "    \"aligned_names\": aligned_names,\n",
    "    \"aligned_values\": aligned_values,\n",
    "    \"aligned_metrics\": {}  # This could be populated if needed\n",
    "}\n",
    "\n",
    "save_json(result_data, output_path)"
   ]
  }
 ],
 "metadata": {
  "kernelspec": {
   "display_name": ".venv",
   "language": "python",
   "name": "python3"
  },
  "language_info": {
   "codemirror_mode": {
    "name": "ipython",
    "version": 3
   },
   "file_extension": ".py",
   "mimetype": "text/x-python",
   "name": "python",
   "nbconvert_exporter": "python",
   "pygments_lexer": "ipython3",
   "version": "3.12.4"
  }
 },
 "nbformat": 4,
 "nbformat_minor": 2
}
